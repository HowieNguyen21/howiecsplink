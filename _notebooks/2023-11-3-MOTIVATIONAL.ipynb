{
 "cells": [
  {
   "cell_type": "markdown",
   "metadata": {},
   "source": [
    "---\n",
    "toc: true\n",
    "comments: false\n",
    "layout: post\n",
    "title: Motivational Quotes\n",
    "type: hacks\n",
    "courses: { compsci: {week: 11} }\n",
    "---"
   ]
  },
  {
   "cell_type": "code",
   "execution_count": null,
   "metadata": {},
   "outputs": [],
   "source": [
    "import webbrowser\n",
    "import random\n",
    "\n",
    "# List of image URLs (you can add more URLs to this list)\n",
    "image_urls = [\n",
    "    \"https://as2.ftcdn.net/v2/jpg/02/18/74/27/1000_F_218742793_e5PRjoGWGEjFKSPrfusqCHYjO2co6OSa.jpg\",\n",
    "    \"https://as1.ftcdn.net/v2/jpg/03/39/85/10/1000_F_339851080_P6SR0J8n3h0LQm5zp9uFqqbthpmqJIKZ.jpg\",\n",
    "    \"https://as2.ftcdn.net/v2/jpg/03/64/82/31/1000_F_364823124_NAvSKQHt8MaATZmBn3T5O43I52OXvSg9.jpg\",\n",
    "    \"https://as1.ftcdn.net/v2/jpg/02/90/62/32/1000_F_290623279_cYg2xAuiLtg2zvmJGl3Zn4Ducobj3itW.jpg\",\n",
    "    \"https://as2.ftcdn.net/v2/jpg/02/53/16/85/1000_F_253168519_THRQ88DESoR2piFbddOPolV8WnyXTWKm.jpg\",\n",
    "    \"https://as2.ftcdn.net/v2/jpg/02/47/04/69/1000_F_247046900_qOr9SVbxR9nTqsm0JTJCsvpUEEHPeKhL.jpg\",\n",
    "    # Add more image URLs here\n",
    "]\n",
    "\n",
    "def open_random_image():\n",
    "    random_url = random.choice(image_urls)\n",
    "    webbrowser.open(random_url)\n",
    "\n",
    "# You can call open_random_image when needed, for example, in response to a button click event\n",
    "open_random_image()\n"
   ]
  },
  {
   "cell_type": "code",
   "execution_count": 5,
   "metadata": {
    "vscode": {
     "languageId": "html"
    }
   },
   "outputs": [
    {
     "data": {
      "text/html": [
       "<html>\n",
       "<head>\n",
       "    <title>Random Image Opener</title>\n",
       "</head>\n",
       "<body>\n",
       "    <h1>Random Image Opener</h1>\n",
       "    <button onclick=\"openRandomImage()\">Open Random Image</button>\n",
       "\n",
       "    <script>\n",
       "        // List of image URLs (you can add more URLs to this list)\n",
       "        const imageUrls = [\n",
       "            \"https://as2.ftcdn.net/v2/jpg/02/18/74/27/1000_F_218742793_e5PRjoGWGEjFKSPrfusqCHYjO2co6OSa.jpg\",\n",
       "            \"https://as1.ftcdn.net/v2/jpg/03/39/85/10/1000_F_339851080_P6SR0J8n3h0LQm5zp9uFqqbthpmqJIKZ.jpg\",\n",
       "            \"https://as2.ftcdn.net/v2/jpg/03/64/82/31/1000_F_364823124_NAvSKQHt8MaATZmBn3T5O43I52OXvSg9.jpg\",\n",
       "            \"https://as1.ftcdn.net/v2/jpg/02/90/62/32/1000_F_290623279_cYg2xAuiLtg2zvmJGl3Zn4Ducobj3itW.jpg\",\n",
       "            \"https://as2.ftcdn.net/v2/jpg/02/53/16/85/1000_F_253168519_THRQ88DESoR2piFbddOPolV8WnyXTWKm.jpg\",\n",
       "            \"https://as2.ftcdn.net/v2/jpg/02/47/04/69/1000_F_247046900_qOr9SVbxR9nTqsm0JTJCsvpUEEHPeKhL.jpg\",\n",
       "            // Add more image URLs here\n",
       "    ];\n",
       "\n",
       "        function openRandomImage() {\n",
       "            const randomIndex = Math.floor(Math.random() * imageUrls.length);\n",
       "            const randomUrl = imageUrls[randomIndex];\n",
       "            window.open(randomUrl, '_blank');\n",
       "        }\n",
       "    </script>\n",
       "</body>\n",
       "</html>\n"
      ],
      "text/plain": [
       "<IPython.core.display.HTML object>"
      ]
     },
     "metadata": {},
     "output_type": "display_data"
    }
   ],
   "source": [
    "%%html\n",
    "<html>\n",
    "<head>\n",
    "    <title>Random Image Opener</title>\n",
    "</head>\n",
    "<body>\n",
    "    <h1>Random Image Opener</h1>\n",
    "    <button onclick=\"openRandomImage()\">Open Random Image</button>\n",
    "\n",
    "    <script>\n",
    "        // List of image URLs (you can add more URLs to this list)\n",
    "        const imageUrls = [\n",
    "            \"https://as2.ftcdn.net/v2/jpg/02/18/74/27/1000_F_218742793_e5PRjoGWGEjFKSPrfusqCHYjO2co6OSa.jpg\",\n",
    "            \"https://as1.ftcdn.net/v2/jpg/03/39/85/10/1000_F_339851080_P6SR0J8n3h0LQm5zp9uFqqbthpmqJIKZ.jpg\",\n",
    "            \"https://as2.ftcdn.net/v2/jpg/03/64/82/31/1000_F_364823124_NAvSKQHt8MaATZmBn3T5O43I52OXvSg9.jpg\",\n",
    "            \"https://as1.ftcdn.net/v2/jpg/02/90/62/32/1000_F_290623279_cYg2xAuiLtg2zvmJGl3Zn4Ducobj3itW.jpg\",\n",
    "            \"https://as2.ftcdn.net/v2/jpg/02/53/16/85/1000_F_253168519_THRQ88DESoR2piFbddOPolV8WnyXTWKm.jpg\",\n",
    "            \"https://as2.ftcdn.net/v2/jpg/02/47/04/69/1000_F_247046900_qOr9SVbxR9nTqsm0JTJCsvpUEEHPeKhL.jpg\",\n",
    "            // Add more image URLs here\n",
    "    ];\n",
    "\n",
    "        function openRandomImage() {\n",
    "            const randomIndex = Math.floor(Math.random() * imageUrls.length);\n",
    "            const randomUrl = imageUrls[randomIndex];\n",
    "            window.open(randomUrl, '_blank');\n",
    "        }\n",
    "    </script>\n",
    "</body>\n",
    "</html>"
   ]
  }
 ],
 "metadata": {
  "kernelspec": {
   "display_name": "Python 3",
   "language": "python",
   "name": "python3"
  },
  "language_info": {
   "name": "python",
   "version": "3.10.12"
  }
 },
 "nbformat": 4,
 "nbformat_minor": 2
}
