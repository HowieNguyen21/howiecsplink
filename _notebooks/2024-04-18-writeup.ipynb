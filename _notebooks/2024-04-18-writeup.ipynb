{
 "cells": [
  {
   "cell_type": "markdown",
   "metadata": {},
   "source": [
    "--- \n",
    "comments: true \n",
    "layout: post \n",
    "title: Data Structures Writeup \n",
    "description: Screenshots and my summary of how my coding has been \n",
    "courses: { csp: {week: 28} } \n",
    "---"
   ]
  },
  {
   "cell_type": "markdown",
   "metadata": {},
   "source": [
    " Collections \n",
    " <img width=\"1373\" alt=\"Screenshot 2024-04-17 at 10 12 04 AM\" src=\"https://github.com/HowieNguyen21/howiecsplink/assets/142542499/436eab38-9028-4bcd-975f-eb8e83e58a0e\"> \n",
    " <img width=\"1085\" alt=\"Screenshot 2024-04-17 at 10 13 13 AM\" src=\"https://github.com/HowieNguyen21/howiecsplink/assets/142542499/1be9eca5-cd62-4254-b2a8-3bd872bb34d2\"> \n",
    " Lists and Dictionarie"
   ]
  }
 ],
 "metadata": {
  "language_info": {
   "name": "python"
  }
 },
 "nbformat": 4,
 "nbformat_minor": 2
}
