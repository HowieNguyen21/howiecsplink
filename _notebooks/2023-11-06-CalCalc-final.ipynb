{
 "cells": [
  {
   "cell_type": "markdown",
   "metadata": {},
   "source": [
    "---\n",
    "comments: true\n",
    "layout: post\n",
    "title: Python Backend\n",
    "type: hacks\n",
    "permalink: /CalCalc/python\n",
    "courses: { compsci: {week: 12} }\n",
    "---"
   ]
  },
  {
   "cell_type": "code",
   "execution_count": null,
   "metadata": {},
   "outputs": [],
   "source": [
    "            # Add calorie maintenance and meal plan to the user data\n",
    "            data['calorie_maintenance'] = calorie_maintenance\n",
    "            data['mealPlan'] = mealPlan\n",
    "            data['mealPlanNumber'] = mealPlanNumber\n",
    "\n",
    "            # Store the user data in a database or any other storage method\n",
    "            # Replace this with your actual storage logic\n",
    "            # For demonstration, we'll just print the data to the console\n",
    "            print(\"Received user data:\")\n",
    "            print(data)\n",
    "\n",
    "            # You can return a success message if data is successfully stored\n",
    "            response = {\n",
    "                \"message\": \"User data stored successfully.\"\n",
    "            }\n",
    "            return jsonify(response), 201  # 201 Created status code\n",
    "\n",
    "        except Exception as e:\n",
    "            # Handle errors or validation failures\n",
    "            response = {\n",
    "                \"error\": \"Failed to store user data\",\n",
    "                \"details\": str(e)\n",
    "            }\n",
    "            return jsonify(response), 400  # 400 Bad Request status code\n",
    "\n",
    "api.add_resource(CalCalcAPI, '/api/calcalc/store_user_data')\n",
    "\n",
    "if __name__ == \"__main__\":\n",
    "    app.run(debug=True)"
   ]
  },
  {
   "cell_type": "markdown",
   "metadata": {},
   "source": [
    "In my Passion Project, I worked with Jayden, Will, and Nihar. I contributed by making the meal plan, and suggesting the idea of when calculation of calories fall  within the limits, will put you into a group to see meal plan. Above I worked on python as well...\n",
    "<br>\n",
    "- Code above represents me adding the calories maintence and meal plan into user data base\n",
    "- Allows for better user interface and neat chart to see how much you (username) needs to consume."
   ]
  }
 ],
 "metadata": {
  "kernelspec": {
   "display_name": "Python 3",
   "language": "python",
   "name": "python3"
  },
  "language_info": {
   "codemirror_mode": {
    "name": "ipython",
    "version": 3
   },
   "file_extension": ".py",
   "mimetype": "text/x-python",
   "name": "python",
   "nbconvert_exporter": "python",
   "pygments_lexer": "ipython3",
   "version": "3.10.12"
  },
  "orig_nbformat": 4
 },
 "nbformat": 4,
 "nbformat_minor": 2
}
