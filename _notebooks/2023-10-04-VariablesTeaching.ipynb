{
 "cells": [
  {
   "cell_type": "code",
   "execution_count": 5,
   "metadata": {},
   "outputs": [
    {
     "name": "stdout",
     "output_type": "stream",
     "text": [
      "You are 16 years old.\n"
     ]
    }
   ],
   "source": [
    "age = 16\n",
    "print(\"You are \"+ str(age) +\" years old.\")"
   ]
  },
  {
   "cell_type": "code",
   "execution_count": 1,
   "metadata": {},
   "outputs": [
    {
     "name": "stdout",
     "output_type": "stream",
     "text": [
      "9 is an integer\n",
      "False is a boolean\n",
      "Howie is a string\n"
     ]
    }
   ],
   "source": [
    "highScore = 9\n",
    "isRaining = False\n",
    "firstName = \"Howie\"\n",
    "print(str(highScore) + \" is an integer\")\n",
    "print(str(isRaining) + \" is a boolean\")\n",
    "print(firstName + \" is a string\")\n"
   ]
  },
  {
   "cell_type": "code",
   "execution_count": 6,
   "metadata": {},
   "outputs": [
    {
     "name": "stdout",
     "output_type": "stream",
     "text": [
      "32\n"
     ]
    }
   ],
   "source": [
    "num1=32\n",
    "num2=40\n",
    "num3=69\n",
    "print(str(num1))"
   ]
  },
  {
   "cell_type": "code",
   "execution_count": 8,
   "metadata": {},
   "outputs": [
    {
     "name": "stdout",
     "output_type": "stream",
     "text": [
      "7\n"
     ]
    }
   ],
   "source": [
    "currentScore = 10\n",
    "highScore = currentScore\n",
    "highScore = 7\n",
    "print(str(highScore))"
   ]
  },
  {
   "cell_type": "code",
   "execution_count": 10,
   "metadata": {},
   "outputs": [
    {
     "name": "stdout",
     "output_type": "stream",
     "text": [
      "English\n"
     ]
    }
   ],
   "source": [
    "Class = [\"Math\", \"English\", \"CSP\", \"Bio\"]\n",
    "print(Class[1])\n"
   ]
  },
  {
   "cell_type": "code",
   "execution_count": 3,
   "metadata": {},
   "outputs": [
    {
     "name": "stdout",
     "output_type": "stream",
     "text": [
      "4\n",
      "['Howie', 'Jayden', 'Nihar', 'Will']\n",
      "True\n",
      "Howie\n"
     ]
    }
   ],
   "source": [
    "# Variable 1\n",
    "\n",
    "numFamily = 4\n",
    "print(numFamily)\n",
    "\n",
    "# Variable 2\n",
    "\n",
    "bestFriends = [\"Howie\", \"Jayden\", \"Nihar\", \"Will\"]\n",
    "print(bestFriends)\n",
    "\n",
    "# Variable 3\n",
    "\n",
    "sushibeatspizza = True\n",
    "print(sushibeatspizza)\n",
    "\n",
    "# Variable 4\n",
    "\n",
    "name = \"Howie\"\n",
    "print(name)"
   ]
  },
  {
   "cell_type": "code",
   "execution_count": 6,
   "metadata": {},
   "outputs": [
    {
     "name": "stdout",
     "output_type": "stream",
     "text": [
      "<class 'list'>\n",
      "[\"Suhsi\", \"Burgers\", \"Pizza\", \"Candy Corn\"]\n",
      "<class 'str'>\n"
     ]
    }
   ],
   "source": [
    "import json\n",
    "lst = [\"Suhsi\",\"Burgers\",\"Pizza\",\"Candy Corn\"]\n",
    "print(type(lst))\n",
    "a = json.dumps(lst)\n",
    "print(a)\n",
    "print(type(a))\n"
   ]
  }
 ],
 "metadata": {
  "kernelspec": {
   "display_name": "Python 3",
   "language": "python",
   "name": "python3"
  },
  "language_info": {
   "codemirror_mode": {
    "name": "ipython",
    "version": 3
   },
   "file_extension": ".py",
   "mimetype": "text/x-python",
   "name": "python",
   "nbconvert_exporter": "python",
   "pygments_lexer": "ipython3",
   "version": "3.10.12"
  },
  "orig_nbformat": 4
 },
 "nbformat": 4,
 "nbformat_minor": 2
}
