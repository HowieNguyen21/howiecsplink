{
 "cells": [
  {
   "cell_type": "markdown",
   "metadata": {},
   "source": [
    "---\n",
    "toc: true\n",
    "comments: false\n",
    "layout: post\n",
    "title: Motivational Quotes\n",
    "type: hacks\n",
    "courses: { compsci: {week: 11} }\n",
    "---"
   ]
  },
  {
   "cell_type": "code",
   "execution_count": null,
   "metadata": {},
   "outputs": [],
   "source": [
    "import webbrowser\n",
    "import random\n",
    "\n",
    "# List of image URLs (you can add more URLs to this list)\n",
    "image_urls = [\n",
    "    \"https://as2.ftcdn.net/v2/jpg/02/18/74/27/1000_F_218742793_e5PRjoGWGEjFKSPrfusqCHYjO2co6OSa.jpg\",\n",
    "    \"https://as1.ftcdn.net/v2/jpg/03/39/85/10/1000_F_339851080_P6SR0J8n3h0LQm5zp9uFqqbthpmqJIKZ.jpg\",\n",
    "    \"https://as2.ftcdn.net/v2/jpg/03/64/82/31/1000_F_364823124_NAvSKQHt8MaATZmBn3T5O43I52OXvSg9.jpg\",\n",
    "    \"https://as1.ftcdn.net/v2/jpg/02/90/62/32/1000_F_290623279_cYg2xAuiLtg2zvmJGl3Zn4Ducobj3itW.jpg\",\n",
    "    \"https://as2.ftcdn.net/v2/jpg/02/53/16/85/1000_F_253168519_THRQ88DESoR2piFbddOPolV8WnyXTWKm.jpg\",\n",
    "    \"https://as2.ftcdn.net/v2/jpg/02/47/04/69/1000_F_247046900_qOr9SVbxR9nTqsm0JTJCsvpUEEHPeKhL.jpg\",\n",
    "    # Add more image URLs here\n",
    "]\n",
    "\n",
    "def open_random_image():\n",
    "    random_url = random.choice(image_urls)\n",
    "    webbrowser.open(random_url)\n",
    "\n",
    "# You can call open_random_image when needed, for example, in response to a button click event\n",
    "open_random_image()\n"
   ]
  }
 ],
 "metadata": {
  "language_info": {
   "name": "python"
  }
 },
 "nbformat": 4,
 "nbformat_minor": 2
}
