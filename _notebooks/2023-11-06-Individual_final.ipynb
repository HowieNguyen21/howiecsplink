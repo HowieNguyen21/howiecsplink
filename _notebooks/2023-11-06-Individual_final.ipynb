{
 "cells": [
  {
   "cell_type": "markdown",
   "metadata": {},
   "source": [
    "---\n",
    "comments: true\n",
    "layout: post\n",
    "title: Individual Final\n",
    "type: hacks\n",
    "permalink: /CalCalc/python\n",
    "courses: { compsci: {week: 12} }\n",
    "---"
   ]
  },
  {
   "cell_type": "markdown",
   "metadata": {},
   "source": [
    "# My Individual Project Final"
   ]
  },
  {
   "cell_type": "markdown",
   "metadata": {},
   "source": [
    "# Contributions Below"
   ]
  },
  {
   "cell_type": "code",
   "execution_count": null,
   "metadata": {},
   "outputs": [],
   "source": [
    "            # Add calorie maintenance and meal plan to the user data\n",
    "            data['calorie_maintenance'] = calorie_maintenance\n",
    "            data['mealPlan'] = mealPlan\n",
    "            data['mealPlanNumber'] = mealPlanNumber\n",
    "\n",
    "            # Store the user data in a database or any other storage method\n",
    "            # Replace this with your actual storage logic\n",
    "            # For demonstration, we'll just print the data to the console\n",
    "            print(\"Received user data:\")\n",
    "            print(data)\n",
    "\n",
    "            # You can return a success message if data is successfully stored\n",
    "            response = {\n",
    "                \"message\": \"User data stored successfully.\"\n",
    "            }\n",
    "            return jsonify(response), 201  # 201 Created status code\n",
    "\n",
    "        except Exception as e:\n",
    "            # Handle errors or validation failures\n",
    "            response = {\n",
    "                \"error\": \"Failed to store user data\",\n",
    "                \"details\": str(e)\n",
    "            }\n",
    "            return jsonify(response), 400  # 400 Bad Request status code\n",
    "\n",
    "api.add_resource(CalCalcAPI, '/api/calcalc/store_user_data')\n",
    "\n",
    "if __name__ == \"__main__\":\n",
    "    app.run(debug=True)"
   ]
  },
  {
   "cell_type": "markdown",
   "metadata": {},
   "source": [
    "In my Passion Project, I worked with Jayden, Will, and Nihar. I contributed by making the meal plan, and suggesting the idea of when calculation of calories fall  within the limits, will put you into a group to see meal plan. Above I worked on python as well...\n",
    "<br>\n",
    "- Code above represents me adding the calories maintence and meal plan into user data base\n",
    "- Allows for better user interface and neat chart to see how much you (username) needs to consume.\n"
   ]
  },
  {
   "cell_type": "markdown",
   "metadata": {},
   "source": [
    "# What went wrong:\n",
    "- API and backened were not coopoerating\n",
    "- Tons of merging errors"
   ]
  },
  {
   "cell_type": "markdown",
   "metadata": {},
   "source": [
    "# What went right (fixed): \n",
    "- Made it local and easily accsessible to people\n",
    "- Able to communicate with teamates to commit and pull with eachother"
   ]
  },
  {
   "cell_type": "markdown",
   "metadata": {},
   "source": [
    "# What I have learned\n",
    "- One of my favorite types of codes to learn about and put into action are the number sorting statements, called algorithims\n",
    "- How the numbers are being sorted intrigue me"
   ]
  },
  {
   "cell_type": "markdown",
   "metadata": {},
   "source": [
    "# Example"
   ]
  },
  {
   "cell_type": "code",
   "execution_count": 1,
   "metadata": {},
   "outputs": [
    {
     "name": "stdout",
     "output_type": "stream",
     "text": [
      "[0, 1, 1, 2, 3, 5, 8, 13, 21, 34]\n"
     ]
    }
   ],
   "source": [
    "def fibonacci(n):\n",
    "    if n <= 0:\n",
    "        return []\n",
    "    elif n == 1:\n",
    "        return [0]\n",
    "    elif n == 2:\n",
    "        return [0, 1]\n",
    "    else:\n",
    "        fib_sequence = [0, 1]\n",
    "        while len(fib_sequence) < n:\n",
    "            next_number = fib_sequence[-1] + fib_sequence[-2]\n",
    "            fib_sequence.append(next_number)\n",
    "        return fib_sequence\n",
    "\n",
    "n = 10\n",
    "result = fibonacci(n)\n",
    "print(result)"
   ]
  },
  {
   "cell_type": "markdown",
   "metadata": {},
   "source": [
    "# Reflection of Quiz"
   ]
  }
 ],
 "metadata": {
  "kernelspec": {
   "display_name": "Python 3",
   "language": "python",
   "name": "python3"
  },
  "language_info": {
   "codemirror_mode": {
    "name": "ipython",
    "version": 3
   },
   "file_extension": ".py",
   "mimetype": "text/x-python",
   "name": "python",
   "nbconvert_exporter": "python",
   "pygments_lexer": "ipython3",
   "version": "3.10.12"
  },
  "orig_nbformat": 4
 },
 "nbformat": 4,
 "nbformat_minor": 2
}
