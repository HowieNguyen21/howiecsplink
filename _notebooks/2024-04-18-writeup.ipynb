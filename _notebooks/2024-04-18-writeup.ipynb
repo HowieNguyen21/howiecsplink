{
 "cells": [
  {
   "cell_type": "markdown",
   "metadata": {},
   "source": [
    "--- \n",
    "comments: true \n",
    "layout: post \n",
    "title: Data Structures Writeup \n",
    "description: Screenshots and my summary of how my coding has been \n",
    "courses: { csp: {week: 28} } \n",
    "---"
   ]
  },
  {
   "cell_type": "markdown",
   "metadata": {},
   "source": [
    "Collections \n",
    "<img width=\"1373\" alt=\"Screenshot 2024-04-17 at 10 12 04 AM\" src=\"https://github.com/HowieNguyen21/howiecsplink/assets/142542499/436eab38-9028-4bcd-975f-eb8e83e58a0e\"> \n",
    "<img width=\"1085\" alt=\"Screenshot 2024-04-17 at 10 13 13 AM\" src=\"https://github.com/HowieNguyen21/howiecsplink/assets/142542499/1be9eca5-cd62-4254-b2a8-3bd872bb34d2\"> \n",
    "Lists and Dictionaries\n",
    "<img width=\"1085\" alt=\"Screenshot 2024-04-17 at 10 13 13 AM\" src=\"https://github.com/nighthawkcoders/teacher_portfolio/assets/142542499/c59face9-914c-4948-80aa-b4780e7167c8\">\n",
    "<img width=\"1085\" alt=\"Screenshot 2024-04-17 at 10 13 13 AM\" src=\"https://github.com/nighthawkcoders/teacher_portfolio/assets/142542499/0d1f328c-6f1a-4eca-9041-43a0259e1576\">\n",
    "APIs and JSON\n",
    "Blog Python API code and use of Postman to request and respond with JSON.\n",
    "<img width=\"589\" alt=\"Screenshot 2024-05-08 at 10 16 25 AM\" src=\"https://github.com/nighthawkcoders/teacher_portfolio/assets/142542499/768c3f6e-4641-4a4f-971f-44bc8270baf6\">\n",
    "<img width=\"569\" alt=\"Screenshot 2024-05-08 at 10 16 40 AM\" src=\"https://github.com/nighthawkcoders/teacher_portfolio/assets/142542499/b52e673d-2fe6-4b35-8518-05ea54030864\">\n",
    "In VSCode, show algorithmic conditions used to validate data on a POST condition.\n",
    "<img width=\"446\" alt=\"Screenshot 2024-05-08 at 10 19 30 AM\" src=\"https://github.com/nighthawkcoders/teacher_portfolio/assets/142542499/248cb0c4-b43a-482d-a3b2-428d4b09e80c\">\n",
    "In Postman, show URL request and Body requirements for GET, POST, and UPDATE methods.\n",
    "<img width=\"786\" alt=\"Screenshot 2024-05-08 at 10 36 58 AM\" src=\"https://github.com/nighthawkcoders/teacher_portfolio/assets/142542499/eb954269-ac66-4157-b708-c1bb7cd322f3\">\n",
    "In Postman, show the JSON response data for 200 success conditions on GET, POST, and UPDATE methods.\n",
    "<img width=\"567\" alt=\"Screenshot 2024-05-08 at 10 37 29 AM\" src=\"https://github.com/nighthawkcoders/teacher_portfolio/assets/142542499/91acb8c7-1644-4254-b121-242e1b6d6d6e\">\n",
    "In Postman, show the JSON response for error for 400 when missing body on a POST request.\n",
    "<img width=\"506\" alt=\"Screenshot 2024-05-08 at 10 38 17 AM\" src=\"https://github.com/nighthawkcoders/teacher_portfolio/assets/142542499/11b89a70-18f0-49eb-b0dc-85f46a878dcc\">\n",
    "<img width=\"768\" alt=\"Screenshot 2024-05-08 at 10 38 41 AM\" src=\"https://github.com/nighthawkcoders/teacher_portfolio/assets/142542499/7e2f7e69-ab82-4fec-aa53-18d369bededb\">\n",
    "Frontend\n",
    "Blog JavaScript API fetch code and formatting code to display JSON.\n",
    "<img width=\"674\" alt=\"Screenshot 2024-05-10 at 10 04 11 PM\" src=\"https://github.com/nighthawkcoders/teacher_portfolio/assets/142542499/85752cd0-88c4-448a-b69d-36dfd6c47260\">\n",
    "<img width=\"260\" alt=\"Screenshot 2024-05-10 at 10 04 49 PM\" src=\"https://github.com/nighthawkcoders/teacher_portfolio/assets/142542499/33064478-b870-4e8f-8a96-da8f24506491\">\n",
    "<img width=\"799\" alt=\"Screenshot 2024-05-10 at 10 05 08 PM\" src=\"https://github.com/nighthawkcoders/teacher_portfolio/assets/142542499/2ebc038b-d14e-433d-a7a8-46d704b2b8e0\">\n",
    "<img width=\"755\" alt=\"Screenshot 2024-05-10 at 10 05 17 PM\" src=\"https://github.com/nighthawkcoders/teacher_portfolio/assets/142542499/6059e68e-3893-4b20-a4e6-be50ba7a6a76\">\n",
    "In JavaScript code, describe fetch and method that obtained the Array of JSON objects.\n",
    "In JavaScript code, show code that performs iteration and formatting of data into HTML.\n",
    "<img width=\"497\" alt=\"Screenshot 2024-05-10 at 10 06 07 PM\" src=\"https://github.com/nighthawkcoders/teacher_portfolio/assets/142542499/b0af22b9-3566-46b8-9d10-992b23064f1f\">\n",
    "In the Chrome browser, show a demo (POST or UPDATE) gathering and sending input and receiving a response that show update. Repeat this demo showing both success and failure.\n",
    "<img width=\"714\" alt=\"Screenshot 2024-05-10 at 10 07 11 PM\" src=\"https://github.com/nighthawkcoders/teacher_portfolio/assets/142542499/fd7feb57-cb9c-491c-818f-0cd95e75d8a7\">\n",
    "<img width=\"731\" alt=\"Screenshot 2024-05-10 at 10 07 24 PM\" src=\"https://github.com/nighthawkcoders/teacher_portfolio/assets/142542499/ec2d1ea8-38d9-4f2a-be4b-484dbe43263d\">\n",
    "In JavaScript code, show and describe code that handles success. Describe how code shows success to the user in the Chrome Browser screen.\n",
    "In JavaScript code, show and describe code that handles failure. Describe how the code shows failure to the user in the Chrome Browser screen.\n",
    "<img width=\"386\" alt=\"Screenshot 2024-05-10 at 10 07 58 PM\" src=\"https://github.com/nighthawkcoders/teacher_portfolio/assets/142542499/c9604f12-06ce-4699-9457-2a45e40095b4\">"
   ]
  },
  {
   "cell_type": "markdown",
   "metadata": {},
   "source": [
    "## Optional/Extra: Algorithm Analysis in Machine Learning Projects\n",
    "<br>\n",
    "Machine learning projects involve significant analysis of algorithms. Consider the steps involved in data preparation and making predictions.\n",
    "<br>\n",
    "\n",
    "# Data Preparation for Analysis:\n",
    "<br>\n",
    "Demonstrate the process of data cleaning, encoding, and one-hot encoding to prepare data for analysis.\n",
    "<br>\n",
    "\n",
    "# Preparation for Predictions:\n",
    "Show how algorithms are used to prepare for making predictions.\n",
    "Understanding Linear Regression:\n",
    "Discuss the basic concepts and functionality of Linear Regression algorithms.\n",
    "Understanding Decision Tree Analysis:\n",
    "Explain the principles and application of Decision Tree algorithms in analysis."
   ]
  }
 ],
 "metadata": {
  "language_info": {
   "name": "python"
  }
 },
 "nbformat": 4,
 "nbformat_minor": 2
}
